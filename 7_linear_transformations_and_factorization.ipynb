{
  "nbformat": 4,
  "nbformat_minor": 0,
  "metadata": {
    "colab": {
      "provenance": [],
      "collapsed_sections": [],
      "authorship_tag": "ABX9TyN3YAokAIevst+APZdDiab/",
      "include_colab_link": true
    },
    "kernelspec": {
      "name": "python3",
      "display_name": "Python 3"
    },
    "language_info": {
      "name": "python"
    }
  },
  "cells": [
    {
      "cell_type": "markdown",
      "metadata": {
        "id": "view-in-github",
        "colab_type": "text"
      },
      "source": [
        "<a href=\"https://colab.research.google.com/github/santiagoahl/linear-algebra-in-python/blob/main/7_linear_transformations_and_factorization.ipynb\" target=\"_parent\"><img src=\"https://colab.research.google.com/assets/colab-badge.svg\" alt=\"Open In Colab\"/></a>"
      ]
    },
    {
      "cell_type": "markdown",
      "source": [
        ">[Linear transformations](#scrollTo=1KM-83jw28mS)\n",
        "\n",
        ">[Eigenvectors and Eigenvalues](#scrollTo=Xf0Ze98h_VAy)\n",
        "\n",
        ">>[Compute eigenvectors and eigenvalues.](#scrollTo=rgBJAQ_xCIwW)\n",
        "\n"
      ],
      "metadata": {
        "colab_type": "toc",
        "id": "CavCaViY2fJr"
      }
    },
    {
      "cell_type": "code",
      "source": [
        "import numpy as np\n",
        "import matplotlib.pyplot as plt"
      ],
      "metadata": {
        "id": "pN4q00b7RUxO"
      },
      "execution_count": null,
      "outputs": []
    },
    {
      "cell_type": "code",
      "source": [
        "from google.colab import drive\n",
        "drive.mount('/content/drive')"
      ],
      "metadata": {
        "colab": {
          "base_uri": "https://localhost:8080/"
        },
        "id": "aEqAoOla_hwM",
        "outputId": "07e12b6b-350d-44de-fdc7-38faaf611ec2"
      },
      "execution_count": null,
      "outputs": [
        {
          "output_type": "stream",
          "name": "stdout",
          "text": [
            "Mounted at /content/drive\n"
          ]
        }
      ]
    },
    {
      "cell_type": "markdown",
      "source": [
        "# Linear transformations\n",
        "\n",
        "Every matrix $T$ can be viewed as a linear transformation."
      ],
      "metadata": {
        "id": "1KM-83jw28mS"
      }
    },
    {
      "cell_type": "code",
      "execution_count": null,
      "metadata": {
        "id": "CGoDiVhnmEsm",
        "colab": {
          "base_uri": "https://localhost:8080/"
        },
        "outputId": "66c3ec67-a720-422c-a104-d98227ed42f2"
      },
      "outputs": [
        {
          "output_type": "stream",
          "name": "stdout",
          "text": [
            "[[-1  3]\n",
            " [ 2 -2]]\n",
            "[-1  3  2 -2]\n"
          ]
        }
      ],
      "source": [
        "A = np.array([\n",
        "    [-1, 3],\n",
        "    [2, -2]\n",
        "])\n",
        "print(A)\n",
        "print(A.flatten())"
      ]
    },
    {
      "cell_type": "code",
      "source": [
        "vector = np.array([2, 1])\n",
        "vector"
      ],
      "metadata": {
        "colab": {
          "base_uri": "https://localhost:8080/"
        },
        "id": "bpIseAfoReUx",
        "outputId": "4ae734a8-9dc7-43c4-d6d7-78c5806f7baa"
      },
      "execution_count": null,
      "outputs": [
        {
          "output_type": "execute_result",
          "data": {
            "text/plain": [
              "array([2, 1])"
            ]
          },
          "metadata": {},
          "execution_count": 4
        }
      ]
    },
    {
      "cell_type": "code",
      "source": [
        "print(vector.flatten())"
      ],
      "metadata": {
        "colab": {
          "base_uri": "https://localhost:8080/"
        },
        "id": "xIv94Ad3ST2J",
        "outputId": "ef309a98-552f-4da5-ccda-a8d0f2481151"
      },
      "execution_count": null,
      "outputs": [
        {
          "output_type": "stream",
          "name": "stdout",
          "text": [
            "[2 1]\n"
          ]
        }
      ]
    },
    {
      "cell_type": "code",
      "source": [
        "%run \"/content/drive/MyDrive/cursos_platzi/Linear-algebra-in-python/auxiliar_functions/plot_vectors.ipynb\""
      ],
      "metadata": {
        "id": "VYpmNpbWR0Sf"
      },
      "execution_count": null,
      "outputs": []
    },
    {
      "cell_type": "code",
      "source": [
        "#Linear transformation\n",
        "\n",
        "plot_vectors([vector, A.dot(vector)], cols = ['blue', 'green'])\n",
        "plt.xlim(-1,3)\n",
        "plt.ylim(-1,3)\n",
        "plt.show()"
      ],
      "metadata": {
        "colab": {
          "base_uri": "https://localhost:8080/",
          "height": 269
        },
        "id": "ZXCrtusvR8kO",
        "outputId": "6cd69fbd-2bc8-470e-cd15-ea0a85de1f43"
      },
      "execution_count": null,
      "outputs": [
        {
          "output_type": "display_data",
          "data": {
            "text/plain": [
              "<Figure size 432x288 with 1 Axes>"
            ],
            "image/png": "[encoded data removed]"
          },
          "metadata": {
            "needs_background": "light"
          }
        }
      ]
    },
    {
      "cell_type": "markdown",
      "source": [
        "Observe that both vectors have the same norm"
      ],
      "metadata": {
        "id": "zJnQy5R7_PV-"
      }
    },
    {
      "cell_type": "markdown",
      "source": [
        "# Eigenvectors and Eigenvalues"
      ],
      "metadata": {
        "id": "Xf0Ze98h_VAy"
      }
    },
    {
      "cell_type": "markdown",
      "source": [
        "We say that a vector $\\text{x}$ is **eigenvector** of a matrix $A$ iff\n",
        "\n",
        "$$\n",
        "  A\\text{x} = \\lambda\\text{x}\n",
        "$$\n",
        "\n",
        "For some $\\lambda\\in\\mathbb{R}$. This scalar is said **eigenvalue**."
      ],
      "metadata": {
        "id": "JZjqNHq9COdI"
      }
    },
    {
      "cell_type": "code",
      "source": [
        "orange_light = '#FF9A13'\n",
        "blue_light = '#1190FF'"
      ],
      "metadata": {
        "id": "SivVtWSVT5ZW"
      },
      "execution_count": null,
      "outputs": []
    },
    {
      "cell_type": "code",
      "source": [
        "X = np.array([\n",
        "    [3, 2], \n",
        "    [4, 1]\n",
        "])"
      ],
      "metadata": {
        "id": "nRgtgg6C_0ug"
      },
      "execution_count": null,
      "outputs": []
    },
    {
      "cell_type": "code",
      "source": [
        "v = np.array([1, 1])"
      ],
      "metadata": {
        "id": "biehX7dz_7CH"
      },
      "execution_count": null,
      "outputs": []
    },
    {
      "cell_type": "code",
      "source": [
        "u = X.dot(v)"
      ],
      "metadata": {
        "id": "YDBVFhrs__hB"
      },
      "execution_count": null,
      "outputs": []
    },
    {
      "cell_type": "code",
      "source": [
        "plot_vectors([u.flatten(), v.flatten()], cols=['#FF9A13', '#1190FF'])\n",
        "plt.xlim(-1, 6)\n",
        "plt.ylim(-1, 6)"
      ],
      "metadata": {
        "colab": {
          "base_uri": "https://localhost:8080/",
          "height": 286
        },
        "id": "yYxMvDVKAFA7",
        "outputId": "c1da2a55-4cd7-4b07-92ed-54bd36ea97b8"
      },
      "execution_count": null,
      "outputs": [
        {
          "output_type": "execute_result",
          "data": {
            "text/plain": [
              "(-1.0, 6.0)"
            ]
          },
          "metadata": {},
          "execution_count": 12
        },
        {
          "output_type": "display_data",
          "data": {
            "text/plain": [
              "<Figure size 432x288 with 1 Axes>"
            ],
            "image/png": "[encoded data removed]"
          },
          "metadata": {
            "needs_background": "light"
          }
        }
      ]
    },
    {
      "cell_type": "markdown",
      "source": [
        "We can also allow eigenvectors whose sense isn't the same."
      ],
      "metadata": {
        "id": "e3DCviM8BnXL"
      }
    },
    {
      "cell_type": "code",
      "source": [
        "s = np.array([-1, 2])\n",
        "t = X.dot(s)\n",
        "print(t)"
      ],
      "metadata": {
        "colab": {
          "base_uri": "https://localhost:8080/"
        },
        "id": "WZPpJRi_BakC",
        "outputId": "e53e8645-04e6-49b2-9929-4025b7b5543b"
      },
      "execution_count": null,
      "outputs": [
        {
          "output_type": "stream",
          "name": "stdout",
          "text": [
            "[ 1 -2]\n"
          ]
        }
      ]
    },
    {
      "cell_type": "code",
      "source": [
        "plot_vectors([t.flatten(), s.flatten()], cols=['#FF9A13', '#1190FF'])\n",
        "plt.xlim(-3, 3)\n",
        "plt.ylim(-3, 3)"
      ],
      "metadata": {
        "colab": {
          "base_uri": "https://localhost:8080/",
          "height": 286
        },
        "id": "FhRBXZSdBmiG",
        "outputId": "2748e300-49a4-4503-b95e-f90a80fe03d2"
      },
      "execution_count": null,
      "outputs": [
        {
          "output_type": "execute_result",
          "data": {
            "text/plain": [
              "(-3.0, 3.0)"
            ]
          },
          "metadata": {},
          "execution_count": 14
        },
        {
          "output_type": "display_data",
          "data": {
            "text/plain": [
              "<Figure size 432x288 with 1 Axes>"
            ],
            "image/png": "[encoded data removed]"
          },
          "metadata": {
            "needs_background": "light"
          }
        }
      ]
    },
    {
      "cell_type": "markdown",
      "source": [
        "## Compute eigenvectors and eigenvalues."
      ],
      "metadata": {
        "id": "rgBJAQ_xCIwW"
      }
    },
    {
      "cell_type": "code",
      "source": [
        "A = np.array([\n",
        "    [3, 2], \n",
        "    [4, 1]\n",
        "])"
      ],
      "metadata": {
        "id": "mSWFaKofCqmx"
      },
      "execution_count": null,
      "outputs": []
    },
    {
      "cell_type": "code",
      "source": [
        "np.linalg.eig(A)"
      ],
      "metadata": {
        "colab": {
          "base_uri": "https://localhost:8080/"
        },
        "id": "JuThuYlyCvsk",
        "outputId": "01a25f50-47e3-49d4-ddeb-284f221b9344"
      },
      "execution_count": null,
      "outputs": [
        {
          "output_type": "execute_result",
          "data": {
            "text/plain": [
              "(array([ 5., -1.]), array([[ 0.70710678, -0.4472136 ],\n",
              "        [ 0.70710678,  0.89442719]]))"
            ]
          },
          "metadata": {},
          "execution_count": 16
        }
      ]
    },
    {
      "cell_type": "code",
      "source": [
        "eigenvalues, eigenvectors = np.linalg.eig(X)"
      ],
      "metadata": {
        "id": "TBQVIf8iCywA"
      },
      "execution_count": null,
      "outputs": []
    },
    {
      "cell_type": "code",
      "source": [
        "print(eigenvectors)"
      ],
      "metadata": {
        "colab": {
          "base_uri": "https://localhost:8080/"
        },
        "id": "A3vA74mMC4AM",
        "outputId": "34e2a644-4ea5-4cee-a936-029285f4f455"
      },
      "execution_count": null,
      "outputs": [
        {
          "output_type": "stream",
          "name": "stdout",
          "text": [
            "[[ 0.70710678 -0.4472136 ]\n",
            " [ 0.70710678  0.89442719]]\n"
          ]
        }
      ]
    },
    {
      "cell_type": "code",
      "source": [
        "print(eigenvalues)"
      ],
      "metadata": {
        "colab": {
          "base_uri": "https://localhost:8080/"
        },
        "id": "AH67p2DHC8Iy",
        "outputId": "09f4525a-1387-40ce-a0fe-c532531359e5"
      },
      "execution_count": null,
      "outputs": [
        {
          "output_type": "stream",
          "name": "stdout",
          "text": [
            "[ 5. -1.]\n"
          ]
        }
      ]
    },
    {
      "cell_type": "code",
      "source": [
        "plot_vectors([X.dot(v).flatten(), v.flatten(), eigenvectors[:,0], X.dot(eigenvectors[:,0])], cols=['green', 'orange', 'blue', 'red'])\n",
        "plt.ylim(-1, 6)\n",
        "plt.xlim(-1, 6)\n",
        "plt.show()"
      ],
      "metadata": {
        "colab": {
          "base_uri": "https://localhost:8080/",
          "height": 269
        },
        "id": "zL9e1Ke5DD8X",
        "outputId": "dcc0f098-8462-471b-e57b-358733207ebb"
      },
      "execution_count": null,
      "outputs": [
        {
          "output_type": "display_data",
          "data": {
            "text/plain": [
              "<Figure size 432x288 with 1 Axes>"
            ],
            "image/png": "[encoded data removed]"
          },
          "metadata": {
            "needs_background": "light"
          }
        }
      ]
    },
    {
      "cell_type": "code",
      "source": [
        "plot_vectors([eigenvectors[:,1], X.dot(eigenvectors[:,1])], cols=['green', 'orange', 'blue', 'red'])\n",
        "plt.ylim(-1, 1)\n",
        "plt.xlim(-1, 1)\n",
        "plt.show()"
      ],
      "metadata": {
        "colab": {
          "base_uri": "https://localhost:8080/",
          "height": 269
        },
        "id": "tFRZ1kuIFg6v",
        "outputId": "14421b74-f240-4bd2-bebe-32bcbd576dfa"
      },
      "execution_count": null,
      "outputs": [
        {
          "output_type": "display_data",
          "data": {
            "text/plain": [
              "<Figure size 432x288 with 1 Axes>"
            ],
            "image/png": "[encoded data removed]"
          },
          "metadata": {
            "needs_background": "light"
          }
        }
      ]
    },
    {
      "cell_type": "markdown",
      "source": [
        "---\n",
        "*Let’s change the world, Together!*\n",
        "\n",
        "\n",
        "<img align=centerright src=\"https://www.notion.so/image/https%3A%2F%2Fs3-us-west-2.amazonaws.com%2Fsecure.notion-static.com%2F202df933-5432-47f6-aba6-a9a054cece4b%2Fpages-PhotoRoom.png?table=block&id=0b1ffffe-7be4-41f2-86dd-26cad410a64b&spaceId=12eea25e-0790-4a8f-aa1c-b60f93c02da2&width=250&userId=4be5c684-7292-494e-bbb2-2554f1af3879&cache=v2\"  width=\"70\" height=\"70\">\n",
        "\n",
        "<img align=centerright src=\"https://cdn-icons-png.flaticon.com/512/25/25231.png\"  width=\"70\" height=\"70\">\n",
        "<img align=centerright src=\"https://cdn-icons-png.flaticon.com/512/61/61109.png?w=360\"  width=\"70\" height=\"70\">\n",
        "<img align=centerright src=\"https://cdn-icons-png.flaticon.com/512/39/39552.png\"  width=\"70\" height=\"70\">\n",
        "<img align=centerright src=\"https://cdn.freebiesupply.com/images/large/2x/instagram-icon-white-on-black.png\"  width=\"100\" height=\"70\">\n",
        "\n",
        "[Personal Blog](https://santiagoal.super.site/)      [GitHub](https://github.com/santiagoahl)    [LinkedIn](https://www.linkedin.com/in/santiago-ahumada-lozano/)   [Twitter](https://twitter.com/sahumadaloz)  [Instagram](https://www.instagram.com/santiago_al10/)\n"
      ],
      "metadata": {
        "id": "B0rBufyDwrqr"
      }
    }
  ]
}